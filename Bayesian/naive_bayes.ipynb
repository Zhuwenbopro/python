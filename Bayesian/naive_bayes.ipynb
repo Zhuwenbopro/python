{
 "cells": [
  {
   "cell_type": "code",
   "execution_count": 57,
   "metadata": {},
   "outputs": [
    {
     "data": {
      "text/plain": [
       "[[[3, 2, 1], [3, 2, 1]], [[2, 3, 4], [1, 4, 4]]]"
      ]
     },
     "execution_count": 57,
     "metadata": {},
     "output_type": "execute_result"
    }
   ],
   "source": [
    "dataSet = [[1, \"S\", -1],\n",
    "           [1, \"M\", -1],\n",
    "           [1, \"M\", 1],\n",
    "           [1, \"S\", 1],\n",
    "           [1, \"S\", -1],\n",
    "           [2, \"S\", -1],\n",
    "           [2, \"M\", -1],\n",
    "           [2, \"M\", 1],\n",
    "           [2, \"L\", 1],\n",
    "           [2, \"L\", 1],\n",
    "           [3, \"L\", 1],\n",
    "           [3, \"M\", 1],\n",
    "           [3, \"M\", 1],\n",
    "           [3, \"L\", 1],\n",
    "           [3, \"L\", -1],]\n",
    "y_label2index = {}\n",
    "y_index2label = {}\n",
    "y_num_dict = {}\n",
    "bayes = 1 # 当lambda = 0 时，是无偏估计\n",
    "p_table = []\n",
    "p_y= []\n",
    "x_label2index = [{} for _ in range(len(dataSet[0])-1)]\n",
    "\n",
    "for d in dataSet:\n",
    "    y_label = d[-1]\n",
    "    if y_label not in y_num_dict:\n",
    "        y_label2index[y_label] = len(y_num_dict)\n",
    "        y_index2label[len(y_num_dict)] = y_label\n",
    "        y_num_dict[y_label] = 0\n",
    "        p_table.append([[] for _ in range(len(d)-1)])\n",
    "        for i, xi_dict in enumerate(x_label2index):\n",
    "            for _, pair in enumerate(xi_dict):\n",
    "                p_table[y_label2index[y_label]][i].append(0)\n",
    "    y_num_dict[y_label] += 1\n",
    "    y_index = y_label2index[y_label]\n",
    "\n",
    "    for i in range(len(d)-1):\n",
    "        # 输入第 i 维 x\n",
    "        xi_label = d[i]\n",
    "        if xi_label not in x_label2index[i]:\n",
    "            x_label2index[i][xi_label] = len(x_label2index[i])\n",
    "            for yi in range(len(p_table)):\n",
    "                p_table[yi][i].append(0)\n",
    "        p_table[y_index][i][x_label2index[i][xi_label]] += 1\n",
    "\n",
    "p_table\n"
   ]
  },
  {
   "cell_type": "code",
   "execution_count": 58,
   "metadata": {},
   "outputs": [
    {
     "name": "stdout",
     "output_type": "stream",
     "text": [
      "[0.4117647058823529, 0.5882352941176471]\n"
     ]
    },
    {
     "data": {
      "text/plain": [
       "[[[0.4444444444444444, 0.3333333333333333, 0.2222222222222222],\n",
       "  [0.4444444444444444, 0.3333333333333333, 0.2222222222222222]],\n",
       " [[0.25, 0.3333333333333333, 0.4166666666666667],\n",
       "  [0.16666666666666666, 0.4166666666666667, 0.4166666666666667]]]"
      ]
     },
     "execution_count": 58,
     "metadata": {},
     "output_type": "execute_result"
    }
   ],
   "source": [
    "for k, y_map in enumerate(p_table):\n",
    "    y_num = y_num_dict[y_index2label[k]]\n",
    "    for xi in y_map:\n",
    "        for j, num in enumerate(xi):\n",
    "            xi[j] = float((num + bayes)/(y_num + len(xi)*bayes))\n",
    "\n",
    "total = len(dataSet)\n",
    "for i, (label, num) in enumerate(y_num_dict.items()):\n",
    "    p_y.append((num + bayes)/(total + len(y_num_dict)*bayes))\n",
    "\n",
    "print(p_y)\n",
    "p_table"
   ]
  },
  {
   "cell_type": "code",
   "execution_count": 62,
   "metadata": {},
   "outputs": [
    {
     "name": "stdout",
     "output_type": "stream",
     "text": [
      "-1\n"
     ]
    }
   ],
   "source": [
    "def predict(x):\n",
    "    max_p = 0\n",
    "    pre_y = -1\n",
    "    for k, p in enumerate(p_y):\n",
    "        for i, xi in enumerate(x):\n",
    "            p *= p_table[k][i][x_label2index[i][xi]]\n",
    "        if max_p < p:\n",
    "            max_p = p\n",
    "            pre_y = k\n",
    "    return pre_y\n",
    "\n",
    "pre = predict([2,\"S\"])\n",
    "\n",
    "print(y_index2label[pre])"
   ]
  }
 ],
 "metadata": {
  "kernelspec": {
   "display_name": "yolo",
   "language": "python",
   "name": "python3"
  },
  "language_info": {
   "codemirror_mode": {
    "name": "ipython",
    "version": 3
   },
   "file_extension": ".py",
   "mimetype": "text/x-python",
   "name": "python",
   "nbconvert_exporter": "python",
   "pygments_lexer": "ipython3",
   "version": "3.9.16"
  },
  "orig_nbformat": 4
 },
 "nbformat": 4,
 "nbformat_minor": 2
}
