{
 "cells": [
  {
   "attachments": {},
   "cell_type": "markdown",
   "metadata": {},
   "source": [
    "# kd树构造"
   ]
  },
  {
   "cell_type": "code",
   "execution_count": 32,
   "metadata": {},
   "outputs": [],
   "source": [
    "Dataset = [[2,3],[5,4],[9,6],[4,7],[8,1],[7,2]]\n",
    "\n",
    "\n",
    "def createTree(points, depth):\n",
    "    l = len(points)\n",
    "    if len(points) == 0:\n",
    "        return None\n",
    "    k = depth % len(points[0])\n",
    "    points.sort(key=lambda elem:elem[k])\n",
    "    mid = int(l/2); left = mid - 1; right = mid + 1\n",
    "    cur = [points[mid]]\n",
    "    while left >= 0:\n",
    "        if points[left][k] == points[mid][k]:\n",
    "            cur.append(points[left])\n",
    "            left -= 1\n",
    "        else: break\n",
    "    while right < len(points):\n",
    "        if points[right][k] == points[mid][k]:\n",
    "            cur.append(points[right])\n",
    "            right += 1\n",
    "        else: break\n",
    "    return {\"points\":cur,\n",
    "            \"cur\":points[mid][k],\n",
    "            \"left\":createTree(points[0:left+1], depth+1),\n",
    "            \"right\":createTree(points[right:len(points)], depth+1)}\n",
    "\n",
    "root = createTree(Dataset, 0)\n"
   ]
  },
  {
   "attachments": {},
   "cell_type": "markdown",
   "metadata": {},
   "source": [
    "## 生成平衡二叉树展示"
   ]
  },
  {
   "cell_type": "code",
   "execution_count": 33,
   "metadata": {},
   "outputs": [
    {
     "data": {
      "text/plain": [
       "{'points': [[7, 2]],\n",
       " 'cur': 7,\n",
       " 'left': {'points': [[5, 4]],\n",
       "  'cur': 4,\n",
       "  'left': {'points': [[2, 3]], 'cur': 2, 'left': None, 'right': None},\n",
       "  'right': {'points': [[4, 7]], 'cur': 4, 'left': None, 'right': None}},\n",
       " 'right': {'points': [[9, 6]],\n",
       "  'cur': 6,\n",
       "  'left': {'points': [[8, 1]], 'cur': 8, 'left': None, 'right': None},\n",
       "  'right': None}}"
      ]
     },
     "execution_count": 33,
     "metadata": {},
     "output_type": "execute_result"
    }
   ],
   "source": [
    "root"
   ]
  },
  {
   "attachments": {},
   "cell_type": "markdown",
   "metadata": {},
   "source": [
    "# kd树搜索"
   ]
  },
  {
   "cell_type": "code",
   "execution_count": 53,
   "metadata": {},
   "outputs": [
    {
     "name": "stdout",
     "output_type": "stream",
     "text": [
      "[[4, 7], [5, 4]]\n"
     ]
    }
   ],
   "source": [
    "pred_Point = [5, 5]\n",
    "dist = float (\"inf\")\n",
    "target = []\n",
    "\n",
    "import math\n",
    "def distance(p1, p2):\n",
    "    d = 0\n",
    "    for i in range(len(p1)):\n",
    "        d += math.pow(p1[i]-p2[i], 2)\n",
    "    return d\n",
    "\n",
    "def search_kdTree(pred_Point, root, depth):\n",
    "    if root is None: return\n",
    "    global dist, target\n",
    "    k = depth % len(pred_Point)\n",
    "\n",
    "    if pred_Point[k] < root[\"cur\"]: \n",
    "        search_kdTree(pred_Point, root[\"left\"], depth+1)\n",
    "    else: \n",
    "        search_kdTree(pred_Point, root[\"right\"], depth+1)\n",
    "\n",
    "    for p in root[\"points\"]:\n",
    "        d = distance(p, pred_Point)\n",
    "        if d < dist:\n",
    "            dist = d\n",
    "            target.append(p)\n",
    "            \n",
    "    if math.pow(pred_Point[k] - root[\"cur\"], 2) < dist:\n",
    "        if pred_Point[k] < root[\"cur\"]: \n",
    "            search_kdTree(pred_Point, root[\"right\"], depth+1)\n",
    "        else: \n",
    "            search_kdTree(pred_Point, root[\"left\"], depth+1)\n",
    "                \n",
    "\n",
    "\n",
    "search_kdTree(pred_Point, root, 0)\n",
    "print(target)"
   ]
  },
  {
   "cell_type": "code",
   "execution_count": 61,
   "metadata": {},
   "outputs": [
    {
     "data": {
      "image/png": "[encoded data removed]",
      "text/plain": [
       "<Figure size 700x600 with 1 Axes>"
      ]
     },
     "metadata": {},
     "output_type": "display_data"
    }
   ],
   "source": [
    "import matplotlib.pyplot as plt\n",
    "from matplotlib.patches import Circle\n",
    "\n",
    "fig2 = plt.figure(num=2, figsize=(7, 6))\n",
    "axes2 = fig2.add_subplot(1, 1, 1)\n",
    "plt.title(\"kdtree搜索\")\n",
    "plt.rcParams['font.sans-serif']=['SimHei']\n",
    "\n",
    "for i, p in enumerate(Dataset):\n",
    "    plt.scatter(p[0], p[1], c='r', marker='^',alpha=0.65)\n",
    "\n",
    "x = [7, 7]; y=[1, 8]\n",
    "plt.plot(x, y, color='brown')\n",
    "x = [1, 7]; y=[4, 4]\n",
    "plt.plot(x, y, color='blue')\n",
    "x = [7, 10]; y=[6, 6]\n",
    "plt.plot(x, y, color='blue')\n",
    "x = [2, 2]; y=[1, 4]\n",
    "plt.plot(x, y, color='pink', linestyle='--')\n",
    "x = [4, 4]; y=[4, 8]\n",
    "plt.plot(x, y, color='pink', linestyle='--')\n",
    "x = [8, 8]; y=[1, 6]\n",
    "plt.plot(x, y, color='pink', linestyle='--')\n",
    "\n",
    "plt.scatter(pred_Point[0], pred_Point[1], c='b', marker='x',alpha=0.65)\n",
    "alpha=0.1\n",
    "for p in target:\n",
    "    alpha += 0.1\n",
    "    c= Circle(xy=(pred_Point[0], pred_Point[1]), radius=math.sqrt(distance(p, pred_Point)), alpha=alpha, color='green')  # 圆\n",
    "    axes2.add_patch(c)\n",
    "\n",
    "\n",
    "plt.show()"
   ]
  }
 ],
 "metadata": {
  "kernelspec": {
   "display_name": "yolo",
   "language": "python",
   "name": "python3"
  },
  "language_info": {
   "codemirror_mode": {
    "name": "ipython",
    "version": 3
   },
   "file_extension": ".py",
   "mimetype": "text/x-python",
   "name": "python",
   "nbconvert_exporter": "python",
   "pygments_lexer": "ipython3",
   "version": "3.9.16"
  },
  "orig_nbformat": 4
 },
 "nbformat": 4,
 "nbformat_minor": 2
}
